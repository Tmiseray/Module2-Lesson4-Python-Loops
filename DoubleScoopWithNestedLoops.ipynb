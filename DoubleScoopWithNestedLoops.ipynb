{
 "cells": [
  {
   "cell_type": "code",
   "execution_count": null,
   "metadata": {},
   "outputs": [],
   "source": [
    "# 2. Double Scoop with Nested Loops\n",
    "\n",
    "# Objective: The aim of this assignment is to practice using nested loops in Python."
   ]
  },
  {
   "cell_type": "code",
   "execution_count": 3,
   "metadata": {},
   "outputs": [
    {
     "name": "stdout",
     "output_type": "stream",
     "text": [
      "On Sunday morning you were energetic.\n",
      "On Sunday afternoon you were calm.\n",
      "On Sunday night you were energetic.\n",
      "On Monday morning you were tired.\n",
      "On Monday afternoon you were calm.\n",
      "On Monday night you were happy.\n",
      "On Tuesday morning you were calm.\n",
      "On Tuesday afternoon you were tired.\n",
      "On Tuesday night you were calm.\n",
      "On Wednesday morning you were sad.\n",
      "On Wednesday afternoon you were sad.\n",
      "On Wednesday night you were sad.\n",
      "On Thursday morning you were energetic.\n",
      "On Thursday afternoon you were energetic.\n",
      "On Thursday night you were sad.\n",
      "On Friday morning you were tired.\n",
      "On Friday afternoon you were sad.\n",
      "On Friday night you were sad.\n",
      "On Saturday morning you were happy.\n",
      "On Saturday afternoon you were sad.\n",
      "On Saturday night you were tired.\n"
     ]
    }
   ],
   "source": [
    "# Task 1: Your Mood Tracker \n",
    "\n",
    "# Simulate a mood tracker that records your mood at three different \n",
    "# times of the day (morning, afternoon, evening) for each day of the week. \n",
    "# Use nested loops to implement this: \n",
    "# the outer loop should iterate over the days, \n",
    "# and the inner loop should iterate over the times of the day. \n",
    "# For each time, randomly select a mood from a predefined list and print it. \n",
    "# Use the random module again to randomly select the mood.\n",
    "\n",
    "# Example Outcome: \n",
    "# An example would be \"On Tuesday afternoon you were sad\" \n",
    "# \"On Tuesday night you were happy\" \n",
    "# \"On Wednesday morning you were tired\"\n",
    "\n",
    "import random\n",
    "\n",
    "moods = [\"happy\", \"sad\", \"energetic\", \"calm\", \"tired\"]\n",
    "days = [\"Sunday\", \"Monday\", \"Tuesday\", \"Wednesday\", \"Thursday\", \"Friday\", \"Saturday\"]\n",
    "time_of_day = [\"morning\", \"afternoon\", \"night\"]\n",
    "\n",
    "for day in range(7):\n",
    "    for time in range(3):\n",
    "        print(f\"On {days[day]} {time_of_day[time]} you were {random.choice(moods)}.\")"
   ]
  },
  {
   "cell_type": "code",
   "execution_count": null,
   "metadata": {},
   "outputs": [],
   "source": []
  }
 ],
 "metadata": {
  "kernelspec": {
   "display_name": "Python 3",
   "language": "python",
   "name": "python3"
  },
  "language_info": {
   "codemirror_mode": {
    "name": "ipython",
    "version": 3
   },
   "file_extension": ".py",
   "mimetype": "text/x-python",
   "name": "python",
   "nbconvert_exporter": "python",
   "pygments_lexer": "ipython3",
   "version": "3.12.4"
  }
 },
 "nbformat": 4,
 "nbformat_minor": 2
}
