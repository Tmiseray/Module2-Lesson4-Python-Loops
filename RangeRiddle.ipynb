{
 "cells": [
  {
   "cell_type": "code",
   "execution_count": null,
   "metadata": {},
   "outputs": [],
   "source": [
    "# 1. The Range Riddle\n",
    "\n",
    "# Objective: The aim of this assignment is to deepen your understanding of \n",
    "# Python's range() function."
   ]
  },
  {
   "cell_type": "code",
   "execution_count": 6,
   "metadata": {},
   "outputs": [
    {
     "name": "stdout",
     "output_type": "stream",
     "text": [
      "On Sunday, you were feeling sad.\n",
      "On Monday, you were feeling energetic.\n",
      "On Tuesday, you were feeling energetic.\n",
      "On Wednesday, you were feeling calm.\n",
      "On Thursday, you were feeling calm.\n",
      "On Friday, you were feeling calm.\n",
      "On Saturday, you were feeling energetic.\n"
     ]
    }
   ],
   "source": [
    "# Task 1: Your Mood Today \n",
    "\n",
    "# Write a program that prints off different moods for each day of the week. \n",
    "# Create a list of moods such as \"Happy\", \"Sad\", \"Energetic\", and \"Calm\". \n",
    "# Using the range() function, loop through every day of the week and for \n",
    "# each day, randomly select a mood from the list and print it. \n",
    "# Ensure that your program includes the use of the random module to select the mood.\n",
    "\n",
    "# Example Outcome: \n",
    "# An example output could be \"On Wednesday, you were feeling happy.\" \n",
    "# \"On Thursday you were feeling sad.\"\n",
    "\n",
    "import random\n",
    "\n",
    "moods = [\"happy\", \"sad\", \"energetic\", \"calm\"]\n",
    "days = [\"Sunday\", \"Monday\", \"Tuesday\", \"Wednesday\", \"Thursday\", \"Friday\", \"Saturday\"]\n",
    "\n",
    "for day in range(7):\n",
    "    print(f\"On {days[day]}, you were feeling {random.choice(moods)}.\")"
   ]
  },
  {
   "cell_type": "code",
   "execution_count": null,
   "metadata": {},
   "outputs": [],
   "source": []
  }
 ],
 "metadata": {
  "kernelspec": {
   "display_name": "Python 3",
   "language": "python",
   "name": "python3"
  },
  "language_info": {
   "codemirror_mode": {
    "name": "ipython",
    "version": 3
   },
   "file_extension": ".py",
   "mimetype": "text/x-python",
   "name": "python",
   "nbconvert_exporter": "python",
   "pygments_lexer": "ipython3",
   "version": "3.12.4"
  }
 },
 "nbformat": 4,
 "nbformat_minor": 2
}
